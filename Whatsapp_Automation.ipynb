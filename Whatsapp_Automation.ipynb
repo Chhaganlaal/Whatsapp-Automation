{
 "cells": [
  {
   "cell_type": "code",
   "execution_count": 1,
   "metadata": {},
   "outputs": [],
   "source": [
    "from selenium import webdriver"
   ]
  },
  {
   "cell_type": "code",
   "execution_count": 2,
   "metadata": {},
   "outputs": [],
   "source": [
    "import os\n",
    "import time\n",
    "from selenium.webdriver.common.keys import Keys\n",
    "from selenium.webdriver.common.action_chains import ActionChains\n",
    "import selenium.webdriver.support.ui as ui\n",
    "import selenium.webdriver as webdriver"
   ]
  },
  {
   "cell_type": "code",
   "execution_count": 13,
   "metadata": {},
   "outputs": [],
   "source": [
    "driver = webdriver.Chrome(executable_path='/Users/dmmah/Anaconda3/Library/bin/chromedriver')\n",
    "driver.get('https://web.whatsapp.com')\n",
    "time.sleep(10)"
   ]
  },
  {
   "cell_type": "code",
   "execution_count": 4,
   "metadata": {},
   "outputs": [],
   "source": [
    "search=driver.find_element_by_class_name(\"Class_Name_For_Search_Bar\")"
   ]
  },
  {
   "cell_type": "code",
   "execution_count": 5,
   "metadata": {},
   "outputs": [],
   "source": [
    "a=[\"Name_Or_Number_Of_Contact\"]"
   ]
  },
  {
   "cell_type": "code",
   "execution_count": 14,
   "metadata": {},
   "outputs": [],
   "source": [
    "def sendMessage():\n",
    "    for i,number in enumerate(a):\n",
    "        start_time=time.time()\n",
    "        search.send_keys(number)\n",
    "        search.send_keys(Keys.ENTER)\n",
    "        time.sleep(1)\n",
    "        global count\n",
    "        count+=1\n",
    "        try:\n",
    "            name=driver.find_element_by_class_name(\"Chat_Input_Body\")\n",
    "            name.click()\n",
    "            writer=driver.find_element_by_class_name(\"Chat_Input_Body\")\n",
    "            writer.click()\n",
    "            writer.send_keys(count)\n",
    "            time.sleep(2)\n",
    "            send=driver.find_element_by_css_selector(\"span[data-icon='send']\")\n",
    "            send.click()\n",
    "            time.sleep(2)\n",
    "        except:\n",
    "            search.clear()\n",
    "            time.sleep(1)"
   ]
  },
  {
   "cell_type": "code",
   "execution_count": 12,
   "metadata": {},
   "outputs": [],
   "source": [
    "count = 0\n",
    "sendMessage()"
   ]
  },
  {
   "cell_type": "code",
   "execution_count": null,
   "metadata": {},
   "outputs": [],
   "source": []
  }
 ],
 "metadata": {
  "kernelspec": {
   "display_name": "Python 3",
   "language": "python",
   "name": "python3"
  },
  "language_info": {
   "codemirror_mode": {
    "name": "ipython",
    "version": 3
   },
   "file_extension": ".py",
   "mimetype": "text/x-python",
   "name": "python",
   "nbconvert_exporter": "python",
   "pygments_lexer": "ipython3",
   "version": "3.6.5"
  }
 },
 "nbformat": 4,
 "nbformat_minor": 2
}
